{
 "cells": [
  {
   "cell_type": "code",
   "execution_count": null,
   "metadata": {},
   "source": [
    "import pandas as pd\n",
    "import numpy as np\n",
    "\n",
    "# Read Excel file\n",
    "excel_file = '../data/MEDDOGS (1) (1).xlsx'\n",
    "df = pd.read_excel(excel_file)"
   ],
   "outputs": []
  },
  {
   "cell_type": "code",
   "execution_count": null,
   "metadata": {},
   "source": [
    "# Remove the existing 'REF' column if it exists\n",
    "if 'REF' in df.columns:\n",
    "    df.drop(columns=['REF'], inplace=True)\n",
    "\n",
    "if 'DISTRACTORS' in df.columns:\n",
    "    df.drop(columns=['DISTRACTORS'], inplace=True)\n",
    "\n",
    "# Rename the 'Unnamed: 6' column to 'REF'\n",
    "df.rename(columns={'Unnamed: 6': 'REF'}, inplace=True)\n",
    "\n",
    "# Create a new column 'Correct' and copy the data from column 'A'\n",
    "df['Correct'] = df['A']\n",
    "df.rename(columns={'A': 'Aa'}, inplace=True)\n",
    "\n",
    "# Drop null rows\n",
    "df = df.dropna()\n",
    "\n",
    "# Drop rows 9 to 20\n",
    "df = df.drop(range(8, 20))\n",
    "\n",
    "# Reset the values in the ID column to follow from 9, 10\n",
    "df['ID'] = range(1, 1 + len(df))"
   ],
   "outputs": []
  },
  {
   "cell_type": "code",
   "execution_count": 1,
   "metadata": {},
   "source": [
    "# Create columns for answers A, B, C, D\n",
    "answer_columns = ['A', 'B', 'C', 'D']\n",
    "df[answer_columns] = ''\n",
    "\n",
    "# Create a column for the correct answer's position\n",
    "df['Correct_Position'] = ''\n",
    "\n",
    "# Function to generate random answers\n",
    "def generate_answers(correct_answer, all_answers):\n",
    "    answers = [correct_answer]\n",
    "    while len(answers) < 4:\n",
    "        random_answer = np.random.choice(all_answers)\n",
    "        if random_answer not in answers:\n",
    "            answers.append(random_answer)\n",
    "    np.random.shuffle(answers)\n",
    "    return answers\n",
    "\n",
    "# Populate A, B, C, D columns with the correct answer and random answers\n",
    "all_correct_answers = df['Correct'].values\n",
    "for index, row in df.iterrows():\n",
    "    correct_answer = row['Correct']\n",
    "    answers = generate_answers(correct_answer, all_correct_answers)\n",
    "    df.at[index, 'A'] = answers[0]\n",
    "    df.at[index, 'B'] = answers[1]\n",
    "    df.at[index, 'C'] = answers[2]\n",
    "    df.at[index, 'D'] = answers[3]\n",
    "    \n",
    "    # Find the position of the correct answer and store it in 'Correct_Position'\n",
    "    correct_position = answer_columns[answers.index(correct_answer)]\n",
    "    df.at[index, 'Correct_Position'] = correct_position\n",
    "\n",
    "df"
   ],
   "outputs": []
  },
  {
   "cell_type": "code",
   "execution_count": 2,
   "metadata": {},
   "source": [
    "df.columns"
   ],
   "outputs": []
  },
  {
   "cell_type": "code",
   "execution_count": null,
   "metadata": {},
   "source": [
    "# Save the modified DataFrame to CSV\n",
    "df.to_csv('../data/MEDDOGS-mod01.csv', index=False)\n"
   ],
   "outputs": []
  }
 ],
 "metadata": {
  "kernelspec": {
   "display_name": "base",
   "language": "python",
   "name": "python3"
  },
  "language_info": {
   "codemirror_mode": {
    "name": "ipython",
    "version": 3
   },
   "file_extension": ".py",
   "mimetype": "text/x-python",
   "name": "python",
   "nbconvert_exporter": "python",
   "pygments_lexer": "ipython3",
   "version": "3.11.7"
  }
 },
 "nbformat": 4,
 "nbformat_minor": 2
}
